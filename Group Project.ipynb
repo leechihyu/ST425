{
 "cells": [
  {
   "cell_type": "markdown",
   "id": "a01819f6",
   "metadata": {},
   "source": [
    "## **Part II - A Mixture Distribution**\n",
    "\n",
    "<span style =  'font-family: Times New Roman'>\n",
    "A mixture distribution admits the following probability density function:   \n",
    "</span>\n",
    "\n",
    "\n",
    "\n",
    "<span style = 'font-family:Times New Roman'>\n"
   ]
  },
  {
   "cell_type": "markdown",
   "id": "8ae20815",
   "metadata": {},
   "source": [
    "<span style = 'text_align:center;'>\n",
    "    $f(x) = \\frac{1}{4(1 - e^{ -2 } )}xe^{-x^{2}/2}I(0 < x < 2 ) + \\frac{3}{4\\sqrt{2\\pi}}e^{-(x-\\mu)^{2} /2},$  $\\;\\;$  $-\\infty < x < \\infty$\n"
   ]
  },
  {
   "cell_type": "markdown",
   "id": "dccf0b80",
   "metadata": {},
   "source": [
    "<span style = 'font-family: Times New Roman'>\n",
    "where $\\mu \\in (-\\infty, \\infty)$ is a parameter. "
   ]
  },
  {
   "cell_type": "markdown",
   "id": "ae168089",
   "metadata": {},
   "source": [
    "### 1. Write R-functions: Density, Distribution, Quantile and Generator."
   ]
  },
  {
   "cell_type": "markdown",
   "id": "19c196fc",
   "metadata": {},
   "source": [
    "#### 1.1 R-function for computing density function"
   ]
  },
  {
   "cell_type": "markdown",
   "id": "df5ff850",
   "metadata": {},
   "source": [
    "<span style = 'text-align: center;'>\n",
    "$f(x) = \\left\\{\\begin{matrix} \n",
    "  \\frac{1}{4(1 - e^{ -2 } )}xe^{-x^{2}/2} + \\frac{3}{4\\sqrt{2\\pi}}e^{-(x-\\mu)^{2} /2} \\quad 0<x<2 \\\\  \n",
    "  \\frac{3}{4\\sqrt{2\\pi}}e^{-(x-\\mu)^{2} /2} \\quad \\quad \\quad \\quad \\quad \\quad \\quad x \\ge 2 \\space or \\space  x \\le 0\n",
    "\\end{matrix}\\right. $"
   ]
  },
  {
   "cell_type": "code",
   "execution_count": 196,
   "id": "6ff810ee",
   "metadata": {},
   "outputs": [],
   "source": [
    "dfunction = function(a_vector, mu){\n",
    "\n",
    "# Can be used to calculate density value in terms of the given distribution\n",
    "#\n",
    "# Paramters\n",
    "# ---------\n",
    "# a_vector: Can be a single value or a list of numbers.\n",
    "#\n",
    "#           There is no size limit for the input value.\n",
    "#\n",
    "# mu: A parameter of the distribution function\n",
    "#\n",
    "# sigma: A parameter of the distribution function\n",
    "    \n",
    "# Get the result of indicator function\n",
    "\n",
    "indicator = ((a_vector > 0) & (a_vector < 2))\n",
    "\n",
    "density = (1 / (4 * (1 - exp(-2)) ) * a_vector * exp(-(a_vector^2) / 2) \n",
    "           * indicator + 3 / (4 * sqrt(2 * pi)) * exp(-((a_vector - mu)^2) / 2))\n",
    "\n",
    "return(density)\n",
    "}"
   ]
  },
  {
   "cell_type": "markdown",
   "id": "24beffd6",
   "metadata": {},
   "source": [
    "#### 1.2 R-function for computing the distribution function\n"
   ]
  },
  {
   "cell_type": "markdown",
   "id": "f8efa94f",
   "metadata": {},
   "source": [
    "<span style = 'font-family: Times New Roman'>\n",
    "$\\frac{1}{\\sqrt{2\\pi}}e^{-(x-\\mu)^{2} /2} \\space$  is the density function of a normal distribution with $\\sigma$ = 1.  \n",
    "\n",
    "$\\frac{3}{4\\sqrt{2\\pi}}e^{-(x-\\mu)^{2} /2} = \\frac{3}{4}g(x)\\space$ where $g(x)$ is the density function of normal distribution with $\\sigma=1.$   \n",
    "\n",
    "$F(x) = \\frac{3}{4}G(x) +\\frac{1-e^{\\frac{-x^2}{2}}}{4(1-e^{-2})}I(0<x<2)+ \\frac{1}{4}I(2 \\le x) $\n",
    "<span style = \"font-family: Times New Roman\">      \n",
    "G(x) is the distribution function of a normal distribution with $\\sigma = 1.$"
   ]
  },
  {
   "cell_type": "code",
   "execution_count": 192,
   "id": "c6b7e522",
   "metadata": {},
   "outputs": [],
   "source": [
    "pfunction = function(a_vector, mu, sigma = 1){\n",
    "# Can be used to calculate P(X < x)\n",
    "#\n",
    "# Paramters\n",
    "# ---------\n",
    "# a_vector: Can be a single value or a list of numbers.\n",
    "#\n",
    "#           There is no size limit for the input value.\n",
    "#\n",
    "# mu: A parameter of the distribution function\n",
    "#\n",
    "# sigma: A parameter of the distribution function\n",
    "\n",
    "# Use indicator function to determine whether include specific term\n",
    "\n",
    "## 0 < x < 2\n",
    "indicator1 = ((a_vector > 0) & (a_vector < 2))\n",
    "## x >= 2 \n",
    "indicator2 = (a_vector >= 2)\n",
    "    \n",
    "first_term = 3/4 * pnorm(a_vector, mu, sigma)\n",
    "    \n",
    "second_term = (1 - exp(-a_vector^2 / 2)) / (4 * (1 - exp(-2)))*indicator1\n",
    "    \n",
    "third_term = 1/4 * indicator2\n",
    "\n",
    "result = first_term + second_term + third_term\n",
    "\n",
    "return(result)\n",
    "\n",
    "}\n"
   ]
  },
  {
   "cell_type": "markdown",
   "id": "1f6dcab2",
   "metadata": {},
   "source": [
    "#### 1.3 R-function for computing the quantile function"
   ]
  },
  {
   "cell_type": "markdown",
   "id": "8070a0f0",
   "metadata": {},
   "source": [
    "<span style = 'font-family:Times New Roman'>\n",
    "In this function, we use uniroot() function to solve the equation below:\n",
    "</span>\n",
    "\n",
    "<p style=\"text-align: center;\">\n",
    "$F(x) = Prob$\n",
    "</p>  \n",
    "\n",
    "<span style = 'font-family:Times New Roman'>\n",
    "where $Prob$ is the value entered.\n",
    "</span>"
   ]
  },
  {
   "cell_type": "code",
   "execution_count": 193,
   "id": "4dc1129a",
   "metadata": {},
   "outputs": [],
   "source": [
    "qfunction_single = function(probability, mu, sigma = 1){\n",
    "# Can be used to calculate the x value which makes P(X < x) = probability\n",
    "#\n",
    "# Paramters\n",
    "# ---------\n",
    "# probability: A value ranging from 0 to 1\n",
    "#\n",
    "# mu: A parameter of the distribution function\n",
    "#\n",
    "# sigma: A parameter of the distribution function\n",
    "\n",
    "if (probability == 0){return(-Inf)}\n",
    "if (probability == 1){return(Inf)}\n",
    "if (probability > 1 | probability < 0){return('Invalid Input')}\n",
    "\n",
    "pf_zero = pfunction(0, mu)\n",
    "\n",
    "if (probability <= pf_zero){return(qnorm((4/3) * probability, mu, sigma))}\n",
    "\n",
    "if (probability > pf_zero & (probability <= pfunction(2, mu))){\n",
    "    f = function(x, prob = probability, pf_z = pf_zero, m = mu, s = sigma) 3/4 * pnorm(x, m, s) + (1 - exp(-x^2 / 2)) / (4 * (1 - exp(-2))) - prob\n",
    "    return(uniroot(f, c(0, 2), tol = 1e-16)$root)\n",
    "}\n",
    "    \n",
    "f = function(x, prob = probability, pf_z = pf_zero, m = mu, s = sigma) prob - 1/4 - 3/4 * pnorm(x, m, s)\n",
    "upper = qnorm(1 - 1e-16, mu, sigma)\n",
    "return(uniroot(f, c(2, upper), tol = 1e-16)$root)\n",
    "\n",
    "}\n",
    "\n",
    "qfunction = function(a_vector, mu, sigma = 1){\n",
    "# Can be used to calculate the x value which makes P(X < x) = probability\n",
    "#\n",
    "# Paramters\n",
    "# ---------\n",
    "# a_vector: Can be a single value or a list of numbers.\n",
    "#\n",
    "#           Ranging from 0 to 1.\n",
    "#\n",
    "# mu: A parameter of the distribution function\n",
    "#\n",
    "# sigma: A parameter of the distribution function\n",
    "\n",
    "result = c()\n",
    "for (val in a_vector){\n",
    "    result = append(result, qfunction_single(val, mu))\n",
    "}\n",
    "return(result)    \n",
    "}"
   ]
  },
  {
   "cell_type": "markdown",
   "id": "a2b8034c",
   "metadata": {},
   "source": [
    "#### 1.4 R-function for generating random numbers from the distribution"
   ]
  },
  {
   "cell_type": "markdown",
   "id": "e5716737",
   "metadata": {},
   "source": [
    "<span style = 'font-family:Times New Roman'>\n",
    "We use the following function to generate random numbers from the distribution:\n",
    "</span>\n",
    "<p style = 'text-align: center;'>\n",
    "$X = F^{-1}(U)$\n",
    "</p>\n",
    "<span style = 'font-family:Times New Roman'>\n",
    "where $U\\sim U(0,1).$  \n",
    "    \n",
    "**Proof**: $P(X<x)=P(F^{-1}(U)<x)=P(U<F(x))=F_U(F(x))$. $U\\sim U(0,1).$  \n",
    "    \n",
    "Thus, $P(X < x)=F_U(F(x))=F(x)$ $\\blacksquare$\n"
   ]
  },
  {
   "cell_type": "code",
   "execution_count": 194,
   "id": "a4051ec1",
   "metadata": {},
   "outputs": [],
   "source": [
    "rfunction = function(n, mu, sigma = 1){\n",
    "# Can be used to generate n random numbers from the distribution\n",
    "#\n",
    "# Paramters\n",
    "# ---------\n",
    "# n: the desired number of random numbers from the distribution\n",
    "#\n",
    "# mu: A parameter of the distribution function\n",
    "#\n",
    "# sigma: A parameter of the distribution function\n",
    "uni = runif(n, 0, 1)\n",
    "result = c()\n",
    "for (val in uni){\n",
    "    result = append(result, qfunction(val, mu, sigma))\n",
    "}\n",
    "return(result)\n",
    "}"
   ]
  },
  {
   "cell_type": "markdown",
   "id": "48acd4a3",
   "metadata": {},
   "source": [
    "### Plot density function, distribution function and quantile function for each of $\\mu = -2$, 0 and 2.\n"
   ]
  },
  {
   "cell_type": "code",
   "execution_count": 8,
   "id": "1ab654c7",
   "metadata": {},
   "outputs": [],
   "source": [
    "#Load necessary packages\n",
    "library(ggplot2)\n",
    "library(ggpubr)\n",
    "invisible()"
   ]
  },
  {
   "cell_type": "markdown",
   "id": "28dcc2bb",
   "metadata": {},
   "source": [
    "#### Plot for density function for each of $\\mu = -2$, 0 and 2."
   ]
  },
  {
   "cell_type": "code",
   "execution_count": 205,
   "id": "e3aabcbb",
   "metadata": {},
   "outputs": [
    {
     "data": {
      "image/png": "[encoded data removed]",
      "text/plain": [
       "plot without title"
      ]
     },
     "metadata": {
      "image/png": {
       "height": 240,
       "width": 720
      }
     },
     "output_type": "display_data"
    }
   ],
   "source": [
    "options(repr.plot.width=12, repr.plot.height=4)\n",
    "x_value1 = seq(-7, 3, by = 0.001)\n",
    "density1 = dfunction(x_value1, mu = -2)\n",
    "df1 = as.data.frame(cbind(x_value = x_value1, density = density1))\n",
    "f1 = ggplot(data = df1, aes(x = x_value, y = density))+\n",
    "    geom_point(size = 0.25)+\n",
    "    theme_classic()+\n",
    "    labs(title = expression('Plot for density function with'~mu~'=-2'), x = 'x')+\n",
    "    theme(plot.title = element_text(size = 15, hjust = 0.5))\n",
    "\n",
    "x_value2 = seq(-5, 5, by = 0.001)\n",
    "density2 = dfunction(x_value2, mu = 0)\n",
    "df2 = as.data.frame(cbind(x_value = x_value2, density = density2))\n",
    "f2 = ggplot(data = df2, aes(x = x_value, y = density))+\n",
    "    geom_point(size = 0.25)+\n",
    "    theme_classic()+\n",
    "    labs(title = expression('Plot for density function with'~mu~'=0'), x = 'x')+\n",
    "    theme(plot.title = element_text(size = 15, hjust = 0.5))\n",
    "\n",
    "x_value3 = seq(-3, 7, by = 0.001)\n",
    "density3 = dfunction(x_value3, mu = 2)\n",
    "df3 = as.data.frame(cbind(x_value = x_value3, density = density3))\n",
    "f3 = ggplot(data = df3, aes(x = x_value, y = density))+\n",
    "    geom_point(size = 0.25)+\n",
    "    theme_classic()+\n",
    "    labs(title = expression('Plot for density function with'~mu~'=2'), x = 'x')+\n",
    "    theme(plot.title = element_text(size = 15, hjust = 0.5))\n",
    "\n",
    "ggarrange(f1, f2, f3, ncol = 3)"
   ]
  },
  {
   "cell_type": "markdown",
   "id": "9c3c0103",
   "metadata": {},
   "source": [
    "#### Plot for distribution function for each of $\\mu = -2$, 0 and 2."
   ]
  },
  {
   "cell_type": "code",
   "execution_count": 83,
   "id": "34accbe2",
   "metadata": {},
   "outputs": [
    {
     "data": {
      "image/png": "[encoded data removed]",
      "text/plain": [
       "plot without title"
      ]
     },
     "metadata": {
      "image/png": {
       "height": 240,
       "width": 720
      }
     },
     "output_type": "display_data"
    }
   ],
   "source": [
    "options(repr.plot.width=12, repr.plot.height=4)\n",
    "x_value1 = seq(-7, 3, by = 0.001)\n",
    "distribution1 = pfunction(x_value1, mu = -2)\n",
    "df4 = as.data.frame(cbind(x_value = x_value1, y_value = distribution1))\n",
    "f4 = ggplot(data = df4, aes(x = x_value, y = y_value))+\n",
    "    geom_point(size = 0.25)+\n",
    "    theme_classic()+\n",
    "    labs(title = expression('Plot for distribution function with'~mu~'=-2'), x = 'x', y = 'P(X < x)')+\n",
    "    theme(plot.title = element_text(size = 15, hjust = 0.5))\n",
    "\n",
    "x_value2 = seq(-5, 5, by = 0.001)\n",
    "distribution2 = pfunction(x_value2, mu = 0)\n",
    "df5 = as.data.frame(cbind(x_value = x_value2, y_value = distribution2))\n",
    "f5 = ggplot(data = df5, aes(x = x_value, y = y_value))+\n",
    "    geom_point(size = 0.25)+\n",
    "    theme_classic()+\n",
    "    labs(title = expression('Plot for distribution function with'~mu~'=0'), x = 'x', y = 'P(X < x)')+\n",
    "    theme(plot.title = element_text(size = 15, hjust = 0.5))\n",
    "\n",
    "x_value3 = seq(-3, 7, by = 0.001)\n",
    "distribution3 = pfunction(x_value3, mu = 2)\n",
    "df6 = as.data.frame(cbind(x_value = x_value3, y_value = distribution3))\n",
    "f6 = ggplot(data = df6, aes(x = x_value, y = y_value))+\n",
    "    geom_point(size = 0.25)+\n",
    "    theme_classic()+\n",
    "    labs(title = expression('Plot for density function with'~mu~'=2'), x = 'x', y = 'P(X < x)')+\n",
    "    theme(plot.title = element_text(size = 15, hjust = 0.5))\n",
    "\n",
    "ggarrange(f4, f5, f6, ncol = 3)\n"
   ]
  },
  {
   "cell_type": "markdown",
   "id": "b1d09608",
   "metadata": {},
   "source": [
    "#### Plot for quantile function for each of $\\mu = -2$, 0 and 2."
   ]
  },
  {
   "cell_type": "code",
   "execution_count": 87,
   "id": "464f74b3",
   "metadata": {},
   "outputs": [
    {
     "data": {
      "image/png": "[encoded data removed]",
      "text/plain": [
       "plot without title"
      ]
     },
     "metadata": {
      "image/png": {
       "height": 240,
       "width": 720
      }
     },
     "output_type": "display_data"
    }
   ],
   "source": [
    "options(repr.plot.width=12, repr.plot.height=4)\n",
    "quan_value = seq(0, 1, by = 0.001)\n",
    "quantile1 = qfunction(quan_value, mu = -2)\n",
    "df7 = as.data.frame(cbind(x_value = quan_value, y_value = quantile1))\n",
    "f7 = ggplot(data = df7, aes(x = x_value, y = y_value))+\n",
    "    geom_point(size = 0.25)+\n",
    "    theme_classic()+\n",
    "    labs(title = expression('Plot for distribution function with'~mu~'=-2'), x = 'x', y = 'Score')+\n",
    "    theme(plot.title = element_text(size = 10, hjust = 0.5))\n",
    "\n",
    "quantile2 = qfunction(quan_value, mu = 0)\n",
    "df8 = as.data.frame(cbind(x_value = quan_value, y_value = quantile2))\n",
    "f8 = ggplot(data = df8, aes(x = x_value, y = y_value))+\n",
    "    geom_point(size = 0.25)+\n",
    "    theme_classic()+\n",
    "    labs(title = expression('Plot for distribution function with'~mu~'=0'), x = 'x', y = 'Score')+\n",
    "    theme(plot.title = element_text(size = 10, hjust = 0.5))\n",
    "\n",
    "quantile3 = qfunction(quan_value, mu = 2)\n",
    "df9 = as.data.frame(cbind(x_value = quan_value, y_value = quantile3))\n",
    "f9 = ggplot(data = df9, aes(x = x_value, y = y_value))+\n",
    "    geom_point(size = 0.25)+\n",
    "    theme_classic()+\n",
    "    labs(title = expression('Plot for density function with'~mu~'=2'), x = 'x', y = 'Score')+\n",
    "    theme(plot.title = element_text(size = 10, hjust = 0.5))\n",
    "\n",
    "ggarrange(f7, f8, f9, ncol = 3)"
   ]
  },
  {
   "cell_type": "markdown",
   "id": "3526a594",
   "metadata": {},
   "source": [
    "### Monte Carlo simulation for   $E(\\frac{X_1 - X_2}{1 + |X_3|})$"
   ]
  },
  {
   "cell_type": "markdown",
   "id": "f221bd72",
   "metadata": {},
   "source": [
    "<p style = 'font-family:Times New Roman'>\n",
    "$X_1$, $X_2$ and $X_3$ are independently drawn from the above distribution. Accoring to the property of expectation: \n",
    "<p style = 'text-align:center'>    \n",
    "    $E(\\frac{X_1 - X_2}{1 + |X_3|})$\n",
    "\n",
    "<p style = 'font-family:Times New Roman'>\n",
    "According to LLN, as long as n is big enough, $\\sum^{n}_{i=1}\\frac{X_{1i} - X_{2i}}{1 + |X_{3i}|}$ would converge to $E(\\frac{X_1 - X_2}{1 + |X_3|})$ in probability."
   ]
  },
  {
   "cell_type": "markdown",
   "id": "f81de54e",
   "metadata": {},
   "source": [
    "* Step 1 \n",
    "<p style = 'font-family:Times New Roman'>\n",
    "Let's firstly define a function for simulating the process of drawing $X_1,X_2$ and $X_3$ independently from the above distribution."
   ]
  },
  {
   "cell_type": "code",
   "execution_count": 107,
   "id": "e0fbbae7",
   "metadata": {},
   "outputs": [],
   "source": [
    "draw_variables = function(mu =  -1){\n",
    "    x1 = rfunction(1, mu)\n",
    "    x2 = rfunction(1, mu)\n",
    "    x3 = rfunction(1, mu)\n",
    "#Or we can get 3 values from the generating function one at a time by using rfunction(3, mu)\n",
    "    return(c(x1, x2, x3))\n",
    "}"
   ]
  },
  {
   "cell_type": "markdown",
   "id": "bec41d2d",
   "metadata": {},
   "source": [
    "* Step 2\n",
    "<p style = 'font-family: Times New Roman'>    \n",
    "Construct the term inside $E(·)$"
   ]
  },
  {
   "cell_type": "code",
   "execution_count": 129,
   "id": "3fb7532b",
   "metadata": {},
   "outputs": [],
   "source": [
    "expected_value = function(n){\n",
    "    ls = replicate(n, draw_variables())\n",
    "    term = (ls[1,] - ls[2, ]) / (1 + abs(ls[3,]))\n",
    "    result = mean(term)\n",
    "    se = sd(term)\n",
    "    return(c(Estimate = result, Se = se))\n",
    "}"
   ]
  },
  {
   "cell_type": "code",
   "execution_count": 132,
   "id": "f0a156c8",
   "metadata": {},
   "outputs": [
    {
     "data": {
      "text/html": [
       "<table class=\"dataframe\">\n",
       "<caption>A matrix: 5 × 2 of type dbl</caption>\n",
       "<thead>\n",
       "\t<tr><th></th><th scope=col>Estimate</th><th scope=col>Se</th></tr>\n",
       "</thead>\n",
       "<tbody>\n",
       "\t<tr><th scope=row>n_100</th><td> 0.0297463224</td><td>0.9939462</td></tr>\n",
       "\t<tr><th scope=row>n_1000</th><td>-0.0328266387</td><td>0.9913811</td></tr>\n",
       "\t<tr><th scope=row>n_10000</th><td> 0.0163322640</td><td>0.9792176</td></tr>\n",
       "\t<tr><th scope=row>n_100000</th><td>-0.0004295298</td><td>0.9930791</td></tr>\n",
       "\t<tr><th scope=row>n_1000000</th><td> 0.0006272916</td><td>0.9936203</td></tr>\n",
       "</tbody>\n",
       "</table>\n"
      ],
      "text/latex": [
       "A matrix: 5 × 2 of type dbl\n",
       "\\begin{tabular}{r|ll}\n",
       "  & Estimate & Se\\\\\n",
       "\\hline\n",
       "\tn\\_100 &  0.0297463224 & 0.9939462\\\\\n",
       "\tn\\_1000 & -0.0328266387 & 0.9913811\\\\\n",
       "\tn\\_10000 &  0.0163322640 & 0.9792176\\\\\n",
       "\tn\\_100000 & -0.0004295298 & 0.9930791\\\\\n",
       "\tn\\_1000000 &  0.0006272916 & 0.9936203\\\\\n",
       "\\end{tabular}\n"
      ],
      "text/markdown": [
       "\n",
       "A matrix: 5 × 2 of type dbl\n",
       "\n",
       "| <!--/--> | Estimate | Se |\n",
       "|---|---|---|\n",
       "| n_100 |  0.0297463224 | 0.9939462 |\n",
       "| n_1000 | -0.0328266387 | 0.9913811 |\n",
       "| n_10000 |  0.0163322640 | 0.9792176 |\n",
       "| n_100000 | -0.0004295298 | 0.9930791 |\n",
       "| n_1000000 |  0.0006272916 | 0.9936203 |\n",
       "\n"
      ],
      "text/plain": [
       "          Estimate      Se       \n",
       "n_100      0.0297463224 0.9939462\n",
       "n_1000    -0.0328266387 0.9913811\n",
       "n_10000    0.0163322640 0.9792176\n",
       "n_100000  -0.0004295298 0.9930791\n",
       "n_1000000  0.0006272916 0.9936203"
      ]
     },
     "metadata": {},
     "output_type": "display_data"
    }
   ],
   "source": [
    "n_100 = expected_value(100)\n",
    "n_1000 = expected_value(1000)\n",
    "n_10000 = expected_value(10000)\n",
    "n_100000 = expected_value(100000)\n",
    "n_1000000 = expected_value(1000000)\n",
    "result = rbind(n_100, n_1000, n_10000, n_100000, n_1000000)\n",
    "result"
   ]
  },
  {
   "cell_type": "markdown",
   "id": "eb6480ed",
   "metadata": {},
   "source": [
    "### Look for the estimate for $\\mu$"
   ]
  },
  {
   "cell_type": "markdown",
   "id": "8d089f31",
   "metadata": {},
   "source": [
    "* Step 1\n",
    "<p style = 'font-family:Times New Roman'>\n",
    "Import data from file and convert it to atomic vector"
   ]
  },
  {
   "cell_type": "code",
   "execution_count": 183,
   "id": "74504827",
   "metadata": {},
   "outputs": [],
   "source": [
    "data = read.csv('D:/LSE File/Course/ST425 Statistical Inference Principles, Methods and Computation/Project Work/mData2021.txt', head = FALSE)[,1]"
   ]
  },
  {
   "cell_type": "markdown",
   "id": "b2158c39",
   "metadata": {},
   "source": [
    "* Step 2\n",
    "<p style = 'font-family:Times New Roman'>\n",
    "Define a likelihood function:\n",
    "$L(\\mu) = \\Pi^{n}_{i=1}f(x_i; \\mu)$"
   ]
  },
  {
   "cell_type": "code",
   "execution_count": 176,
   "id": "ba43ab6f",
   "metadata": {},
   "outputs": [],
   "source": [
    "likelihood = function(x, data) prod(dfunction(data, mu = x))"
   ]
  },
  {
   "cell_type": "markdown",
   "id": "c5fd74c1",
   "metadata": {},
   "source": [
    "* Step 3\n",
    "<p style = 'font-family:Times New Roman'>\n",
    "Use optimize() function to get a value that can maximize likelihood function as the MLE."
   ]
  },
  {
   "cell_type": "code",
   "execution_count": 189,
   "id": "5aaf7140",
   "metadata": {},
   "outputs": [
    {
     "name": "stdout",
     "output_type": "stream",
     "text": [
      "The maximum likelihood estimate for mu is mu 1.719065 ."
     ]
    }
   ],
   "source": [
    "mle = optimize(likelihood, c(-10, 10), maximum = T, tol = 0.000000000000001, data = data)$maximum\n",
    "cat('The maximum likelihood estimate for mu is mu',mle, '.')"
   ]
  }
 ],
 "metadata": {
  "kernelspec": {
   "display_name": "R",
   "language": "R",
   "name": "ir"
  },
  "language_info": {
   "codemirror_mode": "r",
   "file_extension": ".r",
   "mimetype": "text/x-r-source",
   "name": "R",
   "pygments_lexer": "r",
   "version": "4.1.1"
  }
 },
 "nbformat": 4,
 "nbformat_minor": 5
}
